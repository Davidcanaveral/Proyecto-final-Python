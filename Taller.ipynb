{
 "cells": [
  {
   "cell_type": "markdown",
   "metadata": {},
   "source": [
    "Taller Conocimiento Momento 1"
   ]
  },
  {
   "cell_type": "markdown",
   "metadata": {},
   "source": [
    "1)\tElabore un programa para la Universidad de Florida que calcule los primeros 100 números de la siguiente serie 5, 8, 13, 21, ... sin mostrar el 13, y muestre la lista del resultado de los números."
   ]
  },
  {
   "cell_type": "code",
   "execution_count": 8,
   "metadata": {},
   "outputs": [
    {
     "data": {
      "text/plain": [
       "[5,\n",
       " 8,\n",
       " 21,\n",
       " 34,\n",
       " 55,\n",
       " 89,\n",
       " 144,\n",
       " 233,\n",
       " 377,\n",
       " 610,\n",
       " 987,\n",
       " 1597,\n",
       " 2584,\n",
       " 4181,\n",
       " 6765,\n",
       " 10946,\n",
       " 17711,\n",
       " 28657,\n",
       " 46368,\n",
       " 75025,\n",
       " 121393,\n",
       " 196418,\n",
       " 317811,\n",
       " 514229,\n",
       " 832040,\n",
       " 1346269,\n",
       " 2178309,\n",
       " 3524578,\n",
       " 5702887,\n",
       " 9227465,\n",
       " 14930352,\n",
       " 24157817,\n",
       " 39088169,\n",
       " 63245986,\n",
       " 102334155,\n",
       " 165580141,\n",
       " 267914296,\n",
       " 433494437,\n",
       " 701408733,\n",
       " 1134903170,\n",
       " 1836311903,\n",
       " 2971215073,\n",
       " 4807526976,\n",
       " 7778742049,\n",
       " 12586269025,\n",
       " 20365011074,\n",
       " 32951280099,\n",
       " 53316291173,\n",
       " 86267571272,\n",
       " 139583862445,\n",
       " 225851433717,\n",
       " 365435296162,\n",
       " 591286729879,\n",
       " 956722026041,\n",
       " 1548008755920,\n",
       " 2504730781961,\n",
       " 4052739537881,\n",
       " 6557470319842,\n",
       " 10610209857723,\n",
       " 17167680177565,\n",
       " 27777890035288,\n",
       " 44945570212853,\n",
       " 72723460248141,\n",
       " 117669030460994,\n",
       " 190392490709135,\n",
       " 308061521170129,\n",
       " 498454011879264,\n",
       " 806515533049393,\n",
       " 1304969544928657,\n",
       " 2111485077978050,\n",
       " 3416454622906707,\n",
       " 5527939700884757,\n",
       " 8944394323791464,\n",
       " 14472334024676221,\n",
       " 23416728348467685,\n",
       " 37889062373143906,\n",
       " 61305790721611591,\n",
       " 99194853094755497,\n",
       " 160500643816367088,\n",
       " 259695496911122585,\n",
       " 420196140727489673,\n",
       " 679891637638612258,\n",
       " 1100087778366101931,\n",
       " 1779979416004714189,\n",
       " 2880067194370816120,\n",
       " 4660046610375530309,\n",
       " 7540113804746346429,\n",
       " 12200160415121876738,\n",
       " 19740274219868223167,\n",
       " 31940434634990099905,\n",
       " 51680708854858323072,\n",
       " 83621143489848422977,\n",
       " 135301852344706746049,\n",
       " 218922995834555169026,\n",
       " 354224848179261915075,\n",
       " 573147844013817084101]"
      ]
     },
     "execution_count": 8,
     "metadata": {},
     "output_type": "execute_result"
    }
   ],
   "source": [
    "listaNumerosFib=[]\n",
    "pre = 0\n",
    "pos = 1\n",
    "for i in range(100):\n",
    "    num = pre + pos\n",
    "    pre = pos\n",
    "    pos = num\n",
    "    if ((num > 4)and(num!=13)):\n",
    "        listaNumerosFib.append(num)\n",
    "listaNumerosFib   "
   ]
  },
  {
   "cell_type": "markdown",
   "metadata": {},
   "source": [
    "2)\tElabore un programa para el Éxito que determine el salario de los 1897 empleados de su compañía, teniendo en cuenta las comisiones y la seguridad social que debe pagar, e imprima el listado de la información. "
   ]
  },
  {
   "cell_type": "code",
   "execution_count": 2,
   "metadata": {},
   "outputs": [],
   "source": [
    "empleados={0:[],1:[],2:[],3:[],4:[]}\n",
    "def salida():\n",
    "    salir = input('Desea salir? Si/No: ')\n",
    "    if salir.lower() == 'si': return False\n",
    "    else: return True\n",
    "flag= True\n",
    "count = 0\n",
    "while flag:\n",
    "    for i in range(len(empleados)-1):\n",
    "        \n",
    "        if i == 0: item = 'Nombre'\n",
    "        elif i == 1: item = 'Salario basico' \n",
    "        elif i == 2: item = 'Comisiones'\n",
    "        elif i == 3: item = 'Seguridad social'\n",
    "\n",
    "        valor = input(f'Ingrese {item} del empleado: ')\n",
    "        empleados[i].append(valor)\n",
    "    result = int(empleados[1][count]) + int(empleados[2][count]) - int(empleados[3][count])   \n",
    "    empleados[4].append(result)   \n",
    "    flag = salida()\n",
    "    count += 1\n",
    "empleados    "
   ]
  },
  {
   "cell_type": "markdown",
   "metadata": {},
   "source": [
    "3)\tElabore un programa para la facultad de Ingeniería que pida 400 números e indique si ese número es par o impar; me muestre un listado y me indique cuantos son pares y cuantos son impares."
   ]
  },
  {
   "cell_type": "code",
   "execution_count": 3,
   "metadata": {},
   "outputs": [
    {
     "name": "stdout",
     "output_type": "stream",
     "text": [
      "numero pares [20, 12, 70] \n",
      " numero impares [5]\n"
     ]
    }
   ],
   "source": [
    "listaNumerosPares = []\n",
    "listaNumerosImpares = []\n",
    "flag = True\n",
    "while flag:\n",
    "    nPoI = int(input('Ingrese un numero cualquiera'))\n",
    "    if (nPoI % 2) == 0:\n",
    "        listaNumerosPares.append(nPoI)\n",
    "    else:\n",
    "        listaNumerosImpares.append(nPoI)\n",
    "    salir = input('Desea salir? Si/No: ')\n",
    "    if salir.lower() == 'si':\n",
    "        flag = False    \n",
    "print(f'numero pares {listaNumerosPares}\\n\n",
    "      numero impares {listaNumerosImpares}')       "
   ]
  },
  {
   "cell_type": "markdown",
   "metadata": {},
   "source": [
    "4)\t Elabore un programa para un Hospital que determine, y muestre el nivel de Leucemia de 803 pacientes clasificando su puntaje si esta inferior a 10 no tiene Leucemia; si esta entre 11 y 40, nivel bajo de Leucemia; si esta entre 40 y 69, nivel moderado de Leucemia, si esta entre 70 y 100, nivel grave de Leucemia."
   ]
  },
  {
   "cell_type": "code",
   "execution_count": 19,
   "metadata": {},
   "outputs": [
    {
     "name": "stdout",
     "output_type": "stream",
     "text": [
      "No tiene: [7, 8, 6, 8, 4, 1, 9, 2, 8, 8, 8, 8, 2, 7, 8, 2, 8, 9, 1, 9, 8, 8, 8, 8, 6, 8, 1, 8, 6, 2, 8, 9, 8, 2, 7, 9, 8, 1, 8, 8, 8, 8, 7, 6, 2, 4, 6, 7, 2, 8, 1, 8, 7, 8, 8, 8, 6, 8, 2, 8, 8, 6, 1, 7, 8, 8, 2, 8, 6, 8, 6, 1, 9, 9, 8, 2, 7, 9, 7, 2, 8, 1, 8, 9, 2, 8, 6, 9, 4, 1, 8, 7, 4, 6, 8, 9, 8] \n",
      "Nivel bajo: [35, 24, 19, 26, 16, 29, 15, 35, 39, 15, 12, 15, 28, 12, 28, 36, 26, 29, 19, 27, 28, 36, 27, 36, 20, 28, 27, 16, 25, 39, 32, 26, 25, 35, 24, 27, 32, 28, 15, 16, 32, 28, 27, 29, 16, 20, 32, 15, 19, 19, 29, 28, 20, 32, 15, 12, 25, 25, 29, 28, 16, 28, 32, 35, 29, 35, 39, 26, 20, 16, 25, 28, 19, 28, 16, 19, 35, 14, 26, 20, 25, 35, 19, 39, 24, 16, 39, 36, 27, 27, 36, 24, 12, 28, 12, 28, 39, 27, 28, 32, 12, 16, 28, 20, 29, 15, 27, 27, 24, 19, 32, 32, 39, 27, 16, 14, 39, 24, 27, 20, 15, 27, 15, 27, 27, 15, 16, 28, 12, 24, 35, 19, 14, 15, 15, 15, 32, 20, 28, 26, 24, 15, 19, 27, 27, 19, 27, 16, 16, 26, 36, 25, 26, 19, 12, 26, 28, 20, 20, 24, 35, 14, 25, 20, 28, 16, 29, 29, 29, 28, 15, 29, 36, 24, 25, 26, 15, 28, 28, 26, 27, 28, 26, 14, 12, 36, 25, 20, 15, 27, 29, 35, 12, 29, 28, 14, 20, 12, 27, 20, 28, 29, 15, 12, 20, 20, 20] \n",
      "Nivel moderado: [60, 41, 49, 59, 41, 52, 47, 46, 45, 59, 40, 43, 61, 69, 40, 52, 54, 69, 58, 65, 47, 61, 52, 52, 49, 49, 40, 43, 41, 46, 55, 65, 52, 69, 54, 60, 47, 65, 52, 65, 60, 61, 46, 58, 41, 55, 67, 46, 69, 67, 54, 58, 69, 66, 67, 60, 54, 43, 68, 58, 69, 55, 49, 66, 54, 69, 58, 47, 49, 52, 40, 41, 66, 65, 61, 58, 67, 41, 59, 46, 53, 52, 56, 68, 46, 67, 66, 59, 67, 54, 58, 68, 49, 45, 49, 56, 66, 53, 66, 63, 46, 61, 53, 41, 55, 58, 63, 47, 47, 54, 65, 41, 43, 58, 52, 69, 45, 69, 69, 54, 58, 58, 53, 56, 63, 69, 56, 61, 67, 47, 53, 67, 47, 41, 54, 52, 47, 56, 69, 40, 63, 54, 46, 66, 66, 63, 54, 63, 54, 52, 69, 68, 66, 65, 63, 56, 55, 40, 59, 69, 58, 52, 41, 69, 53, 67, 59, 68, 56, 49, 41, 45, 67, 65, 55, 41, 49, 46, 41, 53, 43, 53, 67, 41, 43, 45, 56, 54, 55, 58, 45, 49, 60, 68, 69, 54, 58, 55, 61, 46, 49, 59, 54, 61, 66, 46, 54, 69, 52, 61, 52, 41]\n",
      "Nivel Grave: [98, 81, 92, 94, 72, 96, 79, 79, 79, 79, 79, 80, 77, 74, 100, 85, 100, 81, 98, 95, 100, 80, 98, 87, 87, 74, 100, 72, 78, 98, 100, 79, 101, 78, 100, 76, 82, 74, 98, 98, 94, 96, 73, 82, 101, 80, 100, 79, 79, 78, 81, 77, 100, 77, 95, 80, 95, 82, 72, 79, 85, 82, 81, 73, 96, 72, 92, 101, 92, 101, 95, 90, 100, 81, 78, 96, 82, 95, 78, 81, 80, 77, 96, 78, 71, 95, 73, 76, 80, 85, 101, 90, 94, 72, 76, 77, 82, 73, 82, 81, 89, 100, 96, 94, 92, 85, 73, 74, 79, 98, 89, 85, 95, 71, 101, 95, 78, 95, 92, 81, 76, 80, 80, 80, 81, 100, 76, 90, 80, 100, 77, 101, 101, 95, 92, 80, 77, 101, 92, 74, 72, 77, 71, 78, 73, 101, 92, 98, 80, 80, 77, 82, 81, 101, 80, 95, 81, 80, 82, 80, 76, 101, 98, 77, 87, 81, 101, 92, 81, 80, 90, 76, 98, 96, 72, 81, 92, 100, 73, 73, 95, 82, 82, 81, 101, 82, 95, 77, 80, 78, 95, 82, 82, 82, 101, 77, 79, 80, 71, 85, 92, 79, 80, 85, 82, 72, 95, 101, 98, 87, 96, 77, 82, 98, 80, 96, 92, 82, 76, 89, 95, 89, 80, 95, 101, 80, 87, 80, 92, 81, 80, 82, 95, 80, 98, 72, 80, 72, 79, 98, 78, 95, 95, 92, 95, 82, 90, 80, 100, 73, 85, 90, 73, 92, 77, 85, 94, 81, 96, 73, 100, 79, 80, 95, 73, 94, 95, 82, 101, 96, 100, 71, 100, 87, 81, 95, 72, 76, 90, 80, 92, 73, 82, 78, 73, 92, 90, 77]\n"
     ]
    }
   ],
   "source": [
    "import random \n",
    "listaCabinas=[]\n",
    "for i in range(1,805):\n",
    "     listaCabinas.append(random.randint(1,101))\n",
    "listaPuntajesNo=[]\n",
    "listaPuntajesBajo=[]\n",
    "listaPuntajesMedio=[]\n",
    "listaPuntajesGrave=[]\n",
    "for r in listaCabinas:\n",
    "    if listaCabinas[r] <= 10:\n",
    "        listaPuntajesNo.append(listaCabinas[r])\n",
    "    elif listaCabinas[r] < 40:\n",
    "        listaPuntajesBajo.append(listaCabinas[r])\n",
    "    elif listaCabinas[r] < 70:\n",
    "        listaPuntajesMedio.append(listaCabinas[r])\n",
    "    else:\n",
    "        listaPuntajesGrave.append(listaCabinas[r])\n",
    "print(f'No tiene: {listaPuntajesNo} \\nNivel bajo: {listaPuntajesBajo} \\nNivel moderado: {listaPuntajesMedio}\\nNivel Grave: {listaPuntajesGrave}')            "
   ]
  },
  {
   "cell_type": "markdown",
   "metadata": {},
   "source": [
    "5)\tElabore un programa para determinar el funcionamiento optimo de las 407 cabinas de metro cable, registrando un puntaje que se clasifica de la siguiente forma si tiene 2 puntos está con un funcionamiento defectuoso, si tiene 3 puntos el funcionamiento es moderado y si tiene 4 puntos el funcionamiento es óptimo."
   ]
  },
  {
   "cell_type": "code",
   "execution_count": 26,
   "metadata": {},
   "outputs": [
    {
     "name": "stdout",
     "output_type": "stream",
     "text": [
      "Defectuosas: 143 \n",
      "Moderadas: 134 \n",
      "Optimas: 130\n"
     ]
    }
   ],
   "source": [
    "import random \n",
    "listaCabinas=[]\n",
    "for i in range(1,408):\n",
    "     listaCabinas.append(random.randint(2,4))\n",
    "     \n",
    "listaFunDefec=[]\n",
    "listaFunMod=[]\n",
    "listaFunOpt=[]\n",
    "\n",
    "for r in listaCabinas:\n",
    "    if listaCabinas[r] == 2:\n",
    "        listaFunDefec.append(listaCabinas[r])\n",
    "    elif listaCabinas[r] == 3:\n",
    "        listaFunMod.append(listaCabinas[r])\n",
    "    elif listaCabinas[r] == 4:\n",
    "        listaFunOpt.append(listaCabinas[r])\n",
    "print(f'Defectuosas: {len(listaFunDefec)} \\nModeradas: {len(listaFunMod)} \\nOptimas: {len(listaFunOpt)}')"
   ]
  },
  {
   "cell_type": "markdown",
   "metadata": {},
   "source": []
  }
 ],
 "metadata": {
  "kernelspec": {
   "display_name": "Python 3",
   "language": "python",
   "name": "python3"
  },
  "language_info": {
   "codemirror_mode": {
    "name": "ipython",
    "version": 3
   },
   "file_extension": ".py",
   "mimetype": "text/x-python",
   "name": "python",
   "nbconvert_exporter": "python",
   "pygments_lexer": "ipython3",
   "version": "3.12.4"
  }
 },
 "nbformat": 4,
 "nbformat_minor": 2
}
